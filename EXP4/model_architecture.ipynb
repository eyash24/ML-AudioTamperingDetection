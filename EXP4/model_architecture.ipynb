{
 "cells": [
  {
   "cell_type": "code",
   "execution_count": 1,
   "metadata": {},
   "outputs": [],
   "source": [
    "import torch \n",
    "import torch.nn as nn\n",
    "import numpy as np\n",
    "from torch.nn import init\n",
    "import os\n",
    "from PIL import Image\n",
    "import matplotlib.pyplot as plt\n",
    "from torchinfo import summary\n",
    "%matplotlib inline"
   ]
  },
  {
   "cell_type": "code",
   "execution_count": 11,
   "metadata": {},
   "outputs": [
    {
     "name": "stdout",
     "output_type": "stream",
     "text": [
      "torch.Size([1, 3, 13, 431])\n",
      "Layer 1:  torch.Size([1, 16, 7, 216])\n",
      "Layer 2:  torch.Size([1, 16, 3, 108])\n",
      "Layer 3:  torch.Size([1, 32, 1, 54])\n",
      "Layer 4:  torch.Size([1, 64, 1, 27])\n",
      "Layer 5:  torch.Size([1, 128, 1, 14])\n",
      "Layer 6:  torch.Size([1, 256, 1, 7])\n",
      "Layer 7:  torch.Size([1, 512, 1, 7])\n",
      "Layer 8:  torch.Size([1, 512, 1, 7])\n",
      "Layer 9:  torch.Size([1, 1, 1, 7])\n",
      "Layer 10:  torch.Size([1, 7])\n",
      "Layer 11:  torch.Size([1, 36])\n",
      "Layer 12:  torch.Size([1, 1])\n",
      "Layer 13:  torch.Size([1, 1])\n",
      "tensor([[0.4980]], grad_fn=<SigmoidBackward0>)\n"
     ]
    }
   ],
   "source": [
    "# G1 testing \n",
    "# [16, 3, 13, 431]\n",
    "\n",
    "xb = torch.randn(1, 3, 13, 431)\n",
    "\n",
    "print(xb.shape)\n",
    "# Downsampling \n",
    "c0 = nn.Conv2d(3, 16, kernel_size=3, stride=2, padding=1, bias=False)\n",
    "c1 = nn.Conv2d(16, 16, kernel_size=4, stride=2, padding=1, bias=False)\n",
    "c2 = nn.Conv2d(16, 32, kernel_size=4, stride=2, padding=1, bias=False)\n",
    "c3 = nn.Conv2d(32, 64, kernel_size=3, stride=2, padding=1, bias=False)\n",
    "c4 = nn.Conv2d(64, 128, kernel_size=3, stride=2, padding=1, bias=False)\n",
    "c5 = nn.Conv2d(128, 256, kernel_size=3, stride=2, padding=1, bias=False)\n",
    "c6 = nn.Conv2d(256, 512, kernel_size=3, stride=1, padding=1, bias=False)\n",
    "\n",
    "c7 = nn.Conv2d(512, 512, kernel_size=3, stride=1, padding=1, bias=False)\n",
    "c8 = nn.Conv2d(512, 1, kernel_size=3, stride=1, padding=1, bias=False)\n",
    "c9 = nn.Flatten()\n",
    "c10 = nn.Linear(7,36)\n",
    "c11 = nn.Linear(36,1)\n",
    "c12 = nn.Sigmoid()\n",
    "\n",
    "out = c0(xb)\n",
    "print(\"Layer 1: \", out.shape)\n",
    "\n",
    "c = [c1,c2, c3, c4, c5, c6, c7, c8, c9, c10, c11, c12]\n",
    "\n",
    "for n, layer in enumerate(c):\n",
    "    out = layer(out)\n",
    "    print(f\"Layer {n+2}: \",out.shape)\n",
    "print(out)\n",
    "\n"
   ]
  },
  {
   "cell_type": "code",
   "execution_count": null,
   "metadata": {},
   "outputs": [],
   "source": []
  }
 ],
 "metadata": {
  "kernelspec": {
   "display_name": "envTorch",
   "language": "python",
   "name": "python3"
  },
  "language_info": {
   "codemirror_mode": {
    "name": "ipython",
    "version": 3
   },
   "file_extension": ".py",
   "mimetype": "text/x-python",
   "name": "python",
   "nbconvert_exporter": "python",
   "pygments_lexer": "ipython3",
   "version": "3.11.11"
  }
 },
 "nbformat": 4,
 "nbformat_minor": 2
}

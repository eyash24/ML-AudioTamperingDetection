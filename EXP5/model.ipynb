{
 "cells": [
  {
   "cell_type": "code",
   "execution_count": 1,
   "metadata": {},
   "outputs": [],
   "source": [
    "import numpy as np\n",
    "import pandas as pd\n",
    "import matplotlib.pyplot as plt\n",
    "from scipy import signal\n",
    "import librosa\n",
    "import os\n",
    "import torch\n",
    "import torch.nn as nn\n",
    "import torch.optim as optim\n",
    "from sklearn.model_selection import train_test_split\n",
    "from pydub import AudioSegment\n",
    "from sklearn.preprocessing import StandardScaler\n",
    "from sklearn.metrics import accuracy_score, confusion_matrix, classification_report\n",
    "import seaborn as sns\n",
    "from torchinfo import summary\n",
    "from torch.utils.data import Dataset, DataLoader\n",
    "from sklearn.metrics import roc_curve, auc\n",
    "from tqdm.notebook import tqdm"
   ]
  },
  {
   "cell_type": "code",
   "execution_count": 2,
   "metadata": {},
   "outputs": [],
   "source": [
    "BATCH_SIZE = 16\n",
    "\n",
    "DATASET_DIR = \"/Users/eyash.p24/Desktop/MUJ/ML/ATD_ML/dataset/tampered_dataset_small_wav\""
   ]
  },
  {
   "cell_type": "code",
   "execution_count": 3,
   "metadata": {},
   "outputs": [
    {
     "data": {
      "text/plain": [
       "'insert'"
      ]
     },
     "execution_count": 3,
     "metadata": {},
     "output_type": "execute_result"
    }
   ],
   "source": [
    "def tamper_type(filename):\n",
    "    file_split = filename[:-4].split(\"_\")[-1]\n",
    "    # print(file_split)\n",
    "    return file_split\n",
    "\n",
    "test_file =\"Audio_01_00018_330s_to_360s_insert.mp3\"\n",
    "tamper_type(test_file)"
   ]
  },
  {
   "cell_type": "code",
   "execution_count": 4,
   "metadata": {},
   "outputs": [],
   "source": [
    "def extract_features(file_path):\n",
    "    signal, sr = librosa.load(file_path)\n",
    "    mfccs = librosa.feature.mfcc(y=signal, n_mfcc=13, sr=sr)\n",
    "    delta_mfccs = librosa.feature.delta(mfccs)\n",
    "    delta2_mfccs = librosa.feature.delta(mfccs, order=2)\n",
    "\n",
    "    return np.array([mfccs, delta_mfccs, delta2_mfccs])"
   ]
  },
  {
   "cell_type": "code",
   "execution_count": 5,
   "metadata": {},
   "outputs": [
    {
     "data": {
      "text/plain": [
       "(800, 800, list)"
      ]
     },
     "execution_count": 5,
     "metadata": {},
     "output_type": "execute_result"
    }
   ],
   "source": [
    "features = []\n",
    "labels = []\n",
    "\n",
    "# Extract features from dataset\n",
    "for filename in os.listdir(DATASET_DIR):\n",
    "    if filename.endswith('.wav'):\n",
    "        file_path = os.path.join(DATASET_DIR, filename)\n",
    "        try:\n",
    "            type_file = tamper_type(filename)\n",
    "            # print(labels)\n",
    "            feature = extract_features(file_path)\n",
    "            features.append(feature)\n",
    "            # print(filename)\n",
    "\n",
    "            if type_file == \"insert\":\n",
    "                labels.append(0)\n",
    "            elif type_file == \"del\":\n",
    "                labels.append(1)\n",
    "            elif type_file == \"replace\":\n",
    "                labels.append(2)\n",
    "            else:\n",
    "                labels.append(3)\n",
    "        except:\n",
    "            pass\n",
    "\n",
    "len(features), len(labels), type(features)"
   ]
  },
  {
   "cell_type": "code",
   "execution_count": 6,
   "metadata": {},
   "outputs": [
    {
     "data": {
      "text/plain": [
       "numpy.ndarray"
      ]
     },
     "execution_count": 6,
     "metadata": {},
     "output_type": "execute_result"
    }
   ],
   "source": [
    "type(features[0])"
   ]
  },
  {
   "cell_type": "code",
   "execution_count": 7,
   "metadata": {},
   "outputs": [],
   "source": [
    "class ENFDataset(Dataset):\n",
    "    \"\"\"Dataset class for ENF features\"\"\"\n",
    "    def __init__(self, features, labels):\n",
    "        self.features = features\n",
    "        self.labels = labels\n",
    "        \n",
    "    def __len__(self):\n",
    "        return len(self.features)\n",
    "    \n",
    "    def __getitem__(self, idx):\n",
    "        feature = torch.FloatTensor(self.features[idx])\n",
    "        label = torch.FloatTensor([self.labels[idx]])\n",
    "        return feature, label"
   ]
  },
  {
   "cell_type": "code",
   "execution_count": 8,
   "metadata": {},
   "outputs": [],
   "source": [
    "def prepare_dataloader(features, labels):\n",
    "    X_train, X_test, y_train, y_test = train_test_split(\n",
    "    features, labels, test_size=0.2, random_state=42\n",
    "    )\n",
    "\n",
    "    X_train, X_val, y_train, y_val = train_test_split(\n",
    "        X_train, y_train, test_size=0.2, random_state=42\n",
    "    )\n",
    "\n",
    "    train_dataset = ENFDataset(X_train, y_train)\n",
    "    val_dataset = ENFDataset(X_val, y_val)\n",
    "    test_dataset = ENFDataset(X_test, y_test)\n",
    "\n",
    "    train_loader = DataLoader(train_dataset, batch_size=BATCH_SIZE, shuffle=True)\n",
    "    val_loader = DataLoader(val_dataset, batch_size=BATCH_SIZE)\n",
    "    test_loader = DataLoader(test_dataset, batch_size=BATCH_SIZE)\n",
    "\n",
    "    return train_loader, val_loader, test_loader, X_test, y_test\n",
    "    "
   ]
  },
  {
   "cell_type": "code",
   "execution_count": 9,
   "metadata": {},
   "outputs": [
    {
     "data": {
      "text/plain": [
       "((13, 431), (13, 431), (13, 431))"
      ]
     },
     "execution_count": 9,
     "metadata": {},
     "output_type": "execute_result"
    }
   ],
   "source": [
    "features[0][0].shape, features[0][1].shape, features[0][2].shape "
   ]
  },
  {
   "cell_type": "code",
   "execution_count": 10,
   "metadata": {},
   "outputs": [],
   "source": [
    "train_loader_1, val_loader_1, test_loader_1, X_test, y_test = prepare_dataloader(features, labels)"
   ]
  },
  {
   "cell_type": "code",
   "execution_count": 11,
   "metadata": {},
   "outputs": [
    {
     "data": {
      "text/plain": [
       "(160, 160)"
      ]
     },
     "execution_count": 11,
     "metadata": {},
     "output_type": "execute_result"
    }
   ],
   "source": [
    "len(X_test), len(y_test)"
   ]
  },
  {
   "cell_type": "code",
   "execution_count": 12,
   "metadata": {},
   "outputs": [
    {
     "data": {
      "text/plain": [
       "22050"
      ]
     },
     "execution_count": 12,
     "metadata": {},
     "output_type": "execute_result"
    }
   ],
   "source": [
    "for file_path in os.listdir(DATASET_DIR):\n",
    "    file_path = os.path.join(DATASET_DIR, file_path)\n",
    "    break\n",
    "\n",
    "_, sr = librosa.load(file_path)\n",
    "sr"
   ]
  },
  {
   "cell_type": "code",
   "execution_count": 13,
   "metadata": {},
   "outputs": [
    {
     "data": {
      "text/plain": [
       "3"
      ]
     },
     "execution_count": 13,
     "metadata": {},
     "output_type": "execute_result"
    }
   ],
   "source": [
    "fe = features[45]\n",
    "fe_mfccs = fe[0]\n",
    "fe_delta_mfccs = fe[1]\n",
    "fe_delta2_mfccs = fe[2]\n",
    "labels[45]"
   ]
  },
  {
   "cell_type": "code",
   "execution_count": 14,
   "metadata": {},
   "outputs": [
    {
     "data": {
      "text/plain": [
       "((13, 431), (13, 431), (13, 431))"
      ]
     },
     "execution_count": 14,
     "metadata": {},
     "output_type": "execute_result"
    }
   ],
   "source": [
    "fe_mfccs.shape, fe_delta_mfccs.shape, fe_delta2_mfccs.shape"
   ]
  },
  {
   "cell_type": "code",
   "execution_count": 15,
   "metadata": {},
   "outputs": [
    {
     "data": {
      "image/png": "[encoded data removed]",
      "text/plain": [
       "<Figure size 1000x500 with 2 Axes>"
      ]
     },
     "metadata": {},
     "output_type": "display_data"
    }
   ],
   "source": [
    "# visualizing mfccs\n",
    "fe_mfccs_npy = fe_mfccs\n",
    "\n",
    "plt.figure(figsize=(10,5))\n",
    "librosa.display.specshow(\n",
    "    fe_mfccs_npy, x_axis=\"time\", sr=sr\n",
    ")\n",
    "plt.colorbar(format=\"%+2f\")\n",
    "plt.show()"
   ]
  },
  {
   "cell_type": "code",
   "execution_count": 16,
   "metadata": {},
   "outputs": [
    {
     "data": {
      "image/png": "[encoded data removed]",
      "text/plain": [
       "<Figure size 1000x500 with 2 Axes>"
      ]
     },
     "metadata": {},
     "output_type": "display_data"
    }
   ],
   "source": [
    "# visualizing delta mfccs\n",
    "plt.figure(figsize=(10,5))\n",
    "librosa.display.specshow(\n",
    "    fe_delta_mfccs, x_axis=\"time\", sr=sr\n",
    ")\n",
    "plt.colorbar(format=\"%+2f\")\n",
    "plt.show()"
   ]
  },
  {
   "cell_type": "code",
   "execution_count": 17,
   "metadata": {},
   "outputs": [
    {
     "data": {
      "image/png": "[encoded data removed]",
      "text/plain": [
       "<Figure size 1000x500 with 2 Axes>"
      ]
     },
     "metadata": {},
     "output_type": "display_data"
    }
   ],
   "source": [
    "# visualizing delta 2 mfccs\n",
    "plt.figure(figsize=(10,5))\n",
    "librosa.display.specshow(\n",
    "    fe_delta2_mfccs, x_axis=\"time\", sr=sr\n",
    ")\n",
    "plt.colorbar(format=\"%+2f\")\n",
    "plt.show()"
   ]
  },
  {
   "cell_type": "code",
   "execution_count": 18,
   "metadata": {},
   "outputs": [
    {
     "name": "stdout",
     "output_type": "stream",
     "text": [
      "torch.Size([16, 3, 13, 431])\n"
     ]
    }
   ],
   "source": [
    "for fe, _ in train_loader_1:\n",
    "    print(fe.shape)\n",
    "    break"
   ]
  },
  {
   "cell_type": "markdown",
   "metadata": {},
   "source": [
    "## Model"
   ]
  },
  {
   "cell_type": "code",
   "execution_count": 19,
   "metadata": {},
   "outputs": [],
   "source": [
    "class CNNNetwork(nn.Module):\n",
    "    def __init__(self):\n",
    "        super(CNNNetwork, self).__init__()\n",
    "        self.c1 =  nn.Sequential(\n",
    "            nn.Conv2d(3, 16, kernel_size=3, stride=2, padding=1, bias=False),\n",
    "            nn.BatchNorm2d(16),\n",
    "            nn.ReLU(inplace=True),\n",
    "            \n",
    "            nn.Conv2d(16, 16, kernel_size=4, stride=2, padding=1, bias=False),\n",
    "            nn.BatchNorm2d(16),\n",
    "            nn.ReLU(inplace=True),\n",
    "            \n",
    "            nn.Conv2d(16, 32, kernel_size=4, stride=2, padding=1, bias=False),\n",
    "            nn.BatchNorm2d(32),\n",
    "            nn.ReLU(inplace=True),\n",
    "            \n",
    "            nn.Conv2d(32, 64, kernel_size=3, stride=2, padding=1, bias=False),\n",
    "            nn.BatchNorm2d(64),\n",
    "            nn.ReLU(inplace=True),\n",
    "            \n",
    "            nn.Conv2d(64, 128, kernel_size=3, stride=2, padding=1, bias=False),\n",
    "            nn.BatchNorm2d(128),\n",
    "            nn.ReLU(inplace=True),\n",
    "            \n",
    "            nn.Conv2d(128, 256, kernel_size=3, stride=2, padding=1, bias=False),\n",
    "            nn.BatchNorm2d(256),\n",
    "            nn.ReLU(inplace=True),\n",
    "            \n",
    "            nn.Conv2d(256, 512, kernel_size=3, stride=1, padding=1, bias=False),\n",
    "            nn.BatchNorm2d(512),\n",
    "            nn.ReLU(inplace=True),\n",
    "            \n",
    "            nn.Conv2d(512, 512, kernel_size=3, stride=1, padding=1, bias=False),\n",
    "            nn.BatchNorm2d(512),\n",
    "            nn.ReLU(inplace=True),\n",
    "            \n",
    "            nn.Conv2d(512, 1, kernel_size=3, stride=1, padding=1, bias=False),\n",
    "            nn.BatchNorm2d(1),\n",
    "            nn.ReLU(inplace=True),\n",
    "        )\n",
    "        self.f1 = nn.Flatten()\n",
    "        self.d1 = nn.Sequential(\n",
    "            nn.Linear(7,36),\n",
    "             nn.Linear(36,36),\n",
    "            nn.Linear(36,4),\n",
    "        )\n",
    "        self.o1 = nn.Softmax()\n",
    "    \n",
    "    def forward(self, x):\n",
    "        x1 =  self.c1(x)\n",
    "        x2 = self.f1(x1)\n",
    "        x3 = self.d1(x2)\n",
    "        x4 = self.o1(x3)\n",
    "\n",
    "        return x4\n",
    "\n"
   ]
  },
  {
   "cell_type": "code",
   "execution_count": 20,
   "metadata": {},
   "outputs": [
    {
     "name": "stderr",
     "output_type": "stream",
     "text": [
      "/opt/miniconda3/envs/envTorch/lib/python3.11/site-packages/torch/nn/modules/module.py:1751: UserWarning: Implicit dimension choice for softmax has been deprecated. Change the call to include dim=X as an argument.\n",
      "  return self._call_impl(*args, **kwargs)\n"
     ]
    },
    {
     "data": {
      "text/plain": [
       "(torch.Size([4, 4]),\n",
       " tensor([[0.2182, 0.2289, 0.3084, 0.2445],\n",
       "         [0.2293, 0.2285, 0.3052, 0.2370],\n",
       "         [0.2393, 0.2311, 0.2900, 0.2396],\n",
       "         [0.2319, 0.2395, 0.2765, 0.2521]], grad_fn=<SoftmaxBackward0>))"
      ]
     },
     "execution_count": 20,
     "metadata": {},
     "output_type": "execute_result"
    }
   ],
   "source": [
    "model = CNNNetwork()\n",
    "x = torch.randn(4, 3, 13, 431)\n",
    "out = model(x)\n",
    "out.shape, out"
   ]
  },
  {
   "cell_type": "code",
   "execution_count": 21,
   "metadata": {},
   "outputs": [
    {
     "data": {
      "text/plain": [
       "=================================================================\n",
       "Layer (type:depth-idx)                   Param #\n",
       "=================================================================\n",
       "CNNNetwork                               --\n",
       "├─Sequential: 1-1                        --\n",
       "│    └─Conv2d: 2-1                       432\n",
       "│    └─BatchNorm2d: 2-2                  32\n",
       "│    └─ReLU: 2-3                         --\n",
       "│    └─Conv2d: 2-4                       4,096\n",
       "│    └─BatchNorm2d: 2-5                  32\n",
       "│    └─ReLU: 2-6                         --\n",
       "│    └─Conv2d: 2-7                       8,192\n",
       "│    └─BatchNorm2d: 2-8                  64\n",
       "│    └─ReLU: 2-9                         --\n",
       "│    └─Conv2d: 2-10                      18,432\n",
       "│    └─BatchNorm2d: 2-11                 128\n",
       "│    └─ReLU: 2-12                        --\n",
       "│    └─Conv2d: 2-13                      73,728\n",
       "│    └─BatchNorm2d: 2-14                 256\n",
       "│    └─ReLU: 2-15                        --\n",
       "│    └─Conv2d: 2-16                      294,912\n",
       "│    └─BatchNorm2d: 2-17                 512\n",
       "│    └─ReLU: 2-18                        --\n",
       "│    └─Conv2d: 2-19                      1,179,648\n",
       "│    └─BatchNorm2d: 2-20                 1,024\n",
       "│    └─ReLU: 2-21                        --\n",
       "│    └─Conv2d: 2-22                      2,359,296\n",
       "│    └─BatchNorm2d: 2-23                 1,024\n",
       "│    └─ReLU: 2-24                        --\n",
       "│    └─Conv2d: 2-25                      4,608\n",
       "│    └─BatchNorm2d: 2-26                 2\n",
       "│    └─ReLU: 2-27                        --\n",
       "├─Flatten: 1-2                           --\n",
       "├─Sequential: 1-3                        --\n",
       "│    └─Linear: 2-28                      288\n",
       "│    └─Linear: 2-29                      1,332\n",
       "│    └─Linear: 2-30                      148\n",
       "├─Softmax: 1-4                           --\n",
       "=================================================================\n",
       "Total params: 3,948,186\n",
       "Trainable params: 3,948,186\n",
       "Non-trainable params: 0\n",
       "================================================================="
      ]
     },
     "execution_count": 21,
     "metadata": {},
     "output_type": "execute_result"
    }
   ],
   "source": [
    "summary(model=model, input=(1,3,13,431))"
   ]
  },
  {
   "cell_type": "code",
   "execution_count": 22,
   "metadata": {},
   "outputs": [],
   "source": [
    "import torch.optim as optim\n",
    "criterion = nn.CrossEntropyLoss()\n",
    "optimizer = optim.SGD(model.parameters(), lr=0.001, momentum=0.9)\n",
    "# optimizer = optim.Adam(model.parameters(), lr=0.001)"
   ]
  },
  {
   "cell_type": "code",
   "execution_count": 23,
   "metadata": {},
   "outputs": [],
   "source": [
    "import csv\n",
    "# loss_g: 3.5279, loss_d: 0.6153, real_score: 0.7169, fake_score: 0.1814\n",
    "titles = [\"epoch\", \"train_accuracy\", \"train_loss\", \"val_loss\", \"val_accuracy\"]\n",
    "\n",
    "with open(\"record1.csv\", 'w') as cf:\n",
    "    csvwriter = csv.writer(cf)\n",
    "    # writing the fields\n",
    "    csvwriter.writerow(titles)\n",
    "    # writing the data rows\n",
    "cf.close()"
   ]
  },
  {
   "cell_type": "code",
   "execution_count": 24,
   "metadata": {},
   "outputs": [],
   "source": [
    "def record_data(data, file='record1.csv'):\n",
    "\n",
    "    with open(file, 'a') as cf:\n",
    "        writer_object = csv.writer(cf)\n",
    "        writer_object.writerow(data)\n",
    " \n",
    "    # Close the file object\n",
    "    cf.close()"
   ]
  },
  {
   "cell_type": "code",
   "execution_count": null,
   "metadata": {},
   "outputs": [],
   "source": []
  },
  {
   "cell_type": "code",
   "execution_count": 26,
   "metadata": {},
   "outputs": [],
   "source": [
    "import torch\n",
    "import torch.nn as nn\n",
    "import torch.optim as optim\n",
    "\n",
    "def train_model_multiclass(model, train_loader, val_loader, epochs=50, lr=0.001, file=\"record1.csv\", model_path=\"trained_model1.pth\"):\n",
    "    device = torch.device(\"cuda\" if torch.cuda.is_available() else \"cpu\")\n",
    "    model = model.to(device)\n",
    "    \n",
    "    criterion = nn.CrossEntropyLoss()  # Multiclass classification loss\n",
    "    optimizer = optim.Adam(model.parameters(), lr=lr)\n",
    "    \n",
    "    best_val_loss = float('inf')\n",
    "    best_model = None\n",
    "    train_losses, val_losses = [], []\n",
    "    train_accs, val_accs = [], []\n",
    "\n",
    "    for epoch in range(epochs):\n",
    "        # Training phase\n",
    "        model.train()\n",
    "        train_loss = 0.0\n",
    "        correct_train = 0\n",
    "\n",
    "        for features, labels in train_loader:\n",
    "            features, labels = features.to(device), labels.to(device)  # Move to GPU/CPU\n",
    "\n",
    "            optimizer.zero_grad()\n",
    "            outputs = model(features)  # Logits: [batch_size, num_classes]\n",
    "            \n",
    "            # Ensure labels are of type `long` and shape `[batch_size]`\n",
    "            labels = labels.squeeze().long()\n",
    "            \n",
    "            loss = criterion(outputs, labels)  # CrossEntropyLoss expects raw logits and class indices\n",
    "            \n",
    "            loss.backward()\n",
    "            optimizer.step()\n",
    "            \n",
    "            train_loss += loss.item() * features.size(0)\n",
    "            preds_train = torch.argmax(outputs, dim=1)  # Get predicted class indices\n",
    "            correct_train += (preds_train == labels).sum().item()\n",
    "\n",
    "        train_loss /= len(train_loader.dataset)\n",
    "        train_acc = correct_train / len(train_loader.dataset)\n",
    "\n",
    "        # Validation phase\n",
    "        model.eval()\n",
    "        val_loss = 0.0\n",
    "        correct = 0\n",
    "        \n",
    "        with torch.no_grad():\n",
    "            for inputs, labels in val_loader:\n",
    "                inputs, labels = inputs.to(device), labels.to(device)\n",
    "\n",
    "                outputs = model(inputs)\n",
    "                labels = labels.squeeze().long()  # Ensure proper label shape\n",
    "                \n",
    "                loss = criterion(outputs, labels)\n",
    "                \n",
    "                val_loss += loss.item() * inputs.size(0)\n",
    "                preds = torch.argmax(outputs, dim=1)  # Get predicted class indices\n",
    "                correct += (preds == labels).sum().item()\n",
    "        \n",
    "        val_loss /= len(val_loader.dataset)\n",
    "        val_acc = correct / len(val_loader.dataset)\n",
    "\n",
    "        print(f'Epoch {epoch+1}, Train Acc: {train_acc:.4f}, Train Loss: {train_loss:.4f}, Val Loss: {val_loss:.4f}, Val Acc: {val_acc:.4f}')\n",
    "        record_data([epoch+1, train_acc, train_loss, val_loss, val_acc], file=file)\n",
    "        train_losses.append(train_loss)\n",
    "        val_losses.append(val_loss)\n",
    "        train_accs.append(train_acc)\n",
    "        val_accs.append(val_acc)\n",
    "\n",
    "        if val_loss < best_val_loss:\n",
    "            best_val_loss = val_loss\n",
    "            best_model = model.state_dict().copy()\n",
    "    \n",
    "    # Load best model\n",
    "    model.load_state_dict(best_model)\n",
    "\n",
    "    # Save the model\n",
    "    torch.save(model.state_dict(), model_path)\n",
    "\n",
    "    return train_accs, train_losses, val_losses, val_accs\n"
   ]
  },
  {
   "cell_type": "code",
   "execution_count": 27,
   "metadata": {},
   "outputs": [],
   "source": [
    "epochs = 100\n",
    "lr = 0.001"
   ]
  },
  {
   "cell_type": "code",
   "execution_count": 28,
   "metadata": {},
   "outputs": [
    {
     "name": "stderr",
     "output_type": "stream",
     "text": [
      "/opt/miniconda3/envs/envTorch/lib/python3.11/site-packages/torch/nn/modules/module.py:1751: UserWarning: Implicit dimension choice for softmax has been deprecated. Change the call to include dim=X as an argument.\n",
      "  return self._call_impl(*args, **kwargs)\n"
     ]
    },
    {
     "name": "stdout",
     "output_type": "stream",
     "text": [
      "Epoch 1, Train Acc: 0.4375, Train Loss: 1.2994, Val Loss: 1.1882, Val Acc: 0.4609\n",
      "Epoch 2, Train Acc: 0.4512, Train Loss: 1.2390, Val Loss: 1.2327, Val Acc: 0.4062\n",
      "Epoch 3, Train Acc: 0.4688, Train Loss: 1.2322, Val Loss: 1.2214, Val Acc: 0.4141\n",
      "Epoch 4, Train Acc: 0.4609, Train Loss: 1.2154, Val Loss: 1.1938, Val Acc: 0.4453\n",
      "Epoch 5, Train Acc: 0.4766, Train Loss: 1.2091, Val Loss: 1.1757, Val Acc: 0.4609\n",
      "Epoch 6, Train Acc: 0.4473, Train Loss: 1.2091, Val Loss: 1.1730, Val Acc: 0.4609\n",
      "Epoch 7, Train Acc: 0.4219, Train Loss: 1.2093, Val Loss: 1.1748, Val Acc: 0.4609\n",
      "Epoch 8, Train Acc: 0.4727, Train Loss: 1.2109, Val Loss: 1.1750, Val Acc: 0.4609\n",
      "Epoch 9, Train Acc: 0.4629, Train Loss: 1.2198, Val Loss: 1.1741, Val Acc: 0.4609\n",
      "Epoch 10, Train Acc: 0.4648, Train Loss: 1.2178, Val Loss: 1.1907, Val Acc: 0.5312\n",
      "Epoch 11, Train Acc: 0.4395, Train Loss: 1.2180, Val Loss: 1.2414, Val Acc: 0.5000\n",
      "Epoch 12, Train Acc: 0.4668, Train Loss: 1.2153, Val Loss: 1.1717, Val Acc: 0.5234\n",
      "Epoch 13, Train Acc: 0.4707, Train Loss: 1.2080, Val Loss: 1.1763, Val Acc: 0.4531\n",
      "Epoch 14, Train Acc: 0.4609, Train Loss: 1.2124, Val Loss: 1.1750, Val Acc: 0.4609\n",
      "Epoch 15, Train Acc: 0.4570, Train Loss: 1.2100, Val Loss: 1.1759, Val Acc: 0.4609\n",
      "Epoch 16, Train Acc: 0.4746, Train Loss: 1.2091, Val Loss: 1.1798, Val Acc: 0.4531\n",
      "Epoch 17, Train Acc: 0.4668, Train Loss: 1.2093, Val Loss: 1.1726, Val Acc: 0.5234\n",
      "Epoch 18, Train Acc: 0.4590, Train Loss: 1.2181, Val Loss: 1.1767, Val Acc: 0.5078\n",
      "Epoch 19, Train Acc: 0.4629, Train Loss: 1.2178, Val Loss: 1.1813, Val Acc: 0.4609\n",
      "Epoch 20, Train Acc: 0.4746, Train Loss: 1.2082, Val Loss: 1.1753, Val Acc: 0.4609\n",
      "Epoch 21, Train Acc: 0.4648, Train Loss: 1.2083, Val Loss: 1.1743, Val Acc: 0.5234\n",
      "Epoch 22, Train Acc: 0.4609, Train Loss: 1.2051, Val Loss: 1.1762, Val Acc: 0.4609\n",
      "Epoch 23, Train Acc: 0.4766, Train Loss: 1.2056, Val Loss: 1.1746, Val Acc: 0.4609\n",
      "Epoch 24, Train Acc: 0.4648, Train Loss: 1.2073, Val Loss: 1.1722, Val Acc: 0.5234\n",
      "Epoch 25, Train Acc: 0.4648, Train Loss: 1.2126, Val Loss: 1.1782, Val Acc: 0.4531\n",
      "Epoch 26, Train Acc: 0.4609, Train Loss: 1.2051, Val Loss: 1.1784, Val Acc: 0.5156\n",
      "Epoch 27, Train Acc: 0.4531, Train Loss: 1.2060, Val Loss: 1.1727, Val Acc: 0.4609\n",
      "Epoch 28, Train Acc: 0.4707, Train Loss: 1.2104, Val Loss: 1.3110, Val Acc: 0.3672\n",
      "Epoch 29, Train Acc: 0.4473, Train Loss: 1.2107, Val Loss: 1.1728, Val Acc: 0.5234\n",
      "Epoch 30, Train Acc: 0.4668, Train Loss: 1.2128, Val Loss: 1.1787, Val Acc: 0.4531\n",
      "Epoch 31, Train Acc: 0.4766, Train Loss: 1.2051, Val Loss: 1.1789, Val Acc: 0.4531\n",
      "Epoch 32, Train Acc: 0.4473, Train Loss: 1.2063, Val Loss: 1.1785, Val Acc: 0.4531\n",
      "Epoch 33, Train Acc: 0.4688, Train Loss: 1.2077, Val Loss: 1.1778, Val Acc: 0.4609\n",
      "Epoch 34, Train Acc: 0.4746, Train Loss: 1.2056, Val Loss: 1.1797, Val Acc: 0.4531\n",
      "Epoch 35, Train Acc: 0.4805, Train Loss: 1.2049, Val Loss: 1.1736, Val Acc: 0.5234\n",
      "Epoch 36, Train Acc: 0.4551, Train Loss: 1.2077, Val Loss: 1.1735, Val Acc: 0.4609\n",
      "Epoch 37, Train Acc: 0.4395, Train Loss: 1.2058, Val Loss: 1.1762, Val Acc: 0.4609\n",
      "Epoch 38, Train Acc: 0.4434, Train Loss: 1.2104, Val Loss: 1.1793, Val Acc: 0.5156\n",
      "Epoch 39, Train Acc: 0.4531, Train Loss: 1.2098, Val Loss: 1.1800, Val Acc: 0.4531\n",
      "Epoch 40, Train Acc: 0.4727, Train Loss: 1.2083, Val Loss: 1.1710, Val Acc: 0.4609\n",
      "Epoch 41, Train Acc: 0.4746, Train Loss: 1.2077, Val Loss: 1.1756, Val Acc: 0.4609\n",
      "Epoch 42, Train Acc: 0.4727, Train Loss: 1.2129, Val Loss: 1.1705, Val Acc: 0.5234\n",
      "Epoch 43, Train Acc: 0.4570, Train Loss: 1.2060, Val Loss: 1.1739, Val Acc: 0.4609\n",
      "Epoch 44, Train Acc: 0.4414, Train Loss: 1.2059, Val Loss: 1.1751, Val Acc: 0.4609\n",
      "Epoch 45, Train Acc: 0.4707, Train Loss: 1.2113, Val Loss: 1.1777, Val Acc: 0.4609\n",
      "Epoch 46, Train Acc: 0.4512, Train Loss: 1.2066, Val Loss: 1.1691, Val Acc: 0.5234\n",
      "Epoch 47, Train Acc: 0.4805, Train Loss: 1.2035, Val Loss: 1.1735, Val Acc: 0.4609\n",
      "Epoch 48, Train Acc: 0.4414, Train Loss: 1.2076, Val Loss: 1.1778, Val Acc: 0.5156\n",
      "Epoch 49, Train Acc: 0.4766, Train Loss: 1.2068, Val Loss: 1.1710, Val Acc: 0.4609\n",
      "Epoch 50, Train Acc: 0.4766, Train Loss: 1.2075, Val Loss: 1.1760, Val Acc: 0.4609\n",
      "Epoch 51, Train Acc: 0.4453, Train Loss: 1.2084, Val Loss: 1.1725, Val Acc: 0.4609\n",
      "Epoch 52, Train Acc: 0.4355, Train Loss: 1.2075, Val Loss: 1.1748, Val Acc: 0.5234\n",
      "Epoch 53, Train Acc: 0.4570, Train Loss: 1.2123, Val Loss: 1.1804, Val Acc: 0.4531\n",
      "Epoch 54, Train Acc: 0.4688, Train Loss: 1.2057, Val Loss: 1.1754, Val Acc: 0.5234\n",
      "Epoch 55, Train Acc: 0.4414, Train Loss: 1.2050, Val Loss: 1.1766, Val Acc: 0.5156\n",
      "Epoch 56, Train Acc: 0.4727, Train Loss: 1.2049, Val Loss: 1.1773, Val Acc: 0.5156\n",
      "Epoch 57, Train Acc: 0.4727, Train Loss: 1.2050, Val Loss: 1.1739, Val Acc: 0.4609\n",
      "Epoch 58, Train Acc: 0.4512, Train Loss: 1.2060, Val Loss: 1.1756, Val Acc: 0.4609\n",
      "Epoch 59, Train Acc: 0.4707, Train Loss: 1.2120, Val Loss: 1.1776, Val Acc: 0.4609\n",
      "Epoch 60, Train Acc: 0.4629, Train Loss: 1.2055, Val Loss: 1.1790, Val Acc: 0.5156\n",
      "Epoch 61, Train Acc: 0.4629, Train Loss: 1.2062, Val Loss: 1.1814, Val Acc: 0.4531\n",
      "Epoch 62, Train Acc: 0.4668, Train Loss: 1.2088, Val Loss: 1.1732, Val Acc: 0.5312\n",
      "Epoch 63, Train Acc: 0.4434, Train Loss: 1.2074, Val Loss: 1.1737, Val Acc: 0.5234\n",
      "Epoch 64, Train Acc: 0.4473, Train Loss: 1.2045, Val Loss: 1.1785, Val Acc: 0.4609\n",
      "Epoch 65, Train Acc: 0.4707, Train Loss: 1.2027, Val Loss: 1.1791, Val Acc: 0.4531\n",
      "Epoch 66, Train Acc: 0.4805, Train Loss: 1.2037, Val Loss: 1.1742, Val Acc: 0.4609\n",
      "Epoch 67, Train Acc: 0.4766, Train Loss: 1.2108, Val Loss: 1.1884, Val Acc: 0.4609\n",
      "Epoch 68, Train Acc: 0.4785, Train Loss: 1.2051, Val Loss: 1.1676, Val Acc: 0.4922\n",
      "Epoch 69, Train Acc: 0.4531, Train Loss: 1.2049, Val Loss: 1.1736, Val Acc: 0.4688\n",
      "Epoch 70, Train Acc: 0.4609, Train Loss: 1.2085, Val Loss: 1.2253, Val Acc: 0.4453\n",
      "Epoch 71, Train Acc: 0.4746, Train Loss: 1.1965, Val Loss: 1.1543, Val Acc: 0.5703\n",
      "Epoch 72, Train Acc: 0.4883, Train Loss: 1.2071, Val Loss: 1.1484, Val Acc: 0.5156\n",
      "Epoch 73, Train Acc: 0.4590, Train Loss: 1.2086, Val Loss: 1.1269, Val Acc: 0.5391\n",
      "Epoch 74, Train Acc: 0.5020, Train Loss: 1.1980, Val Loss: 1.1644, Val Acc: 0.4844\n",
      "Epoch 75, Train Acc: 0.5098, Train Loss: 1.2031, Val Loss: 1.1305, Val Acc: 0.5781\n",
      "Epoch 76, Train Acc: 0.5410, Train Loss: 1.1814, Val Loss: 1.1141, Val Acc: 0.6016\n",
      "Epoch 77, Train Acc: 0.5859, Train Loss: 1.1505, Val Loss: 1.0901, Val Acc: 0.5938\n",
      "Epoch 78, Train Acc: 0.5840, Train Loss: 1.1423, Val Loss: 1.1485, Val Acc: 0.5469\n",
      "Epoch 79, Train Acc: 0.6250, Train Loss: 1.1246, Val Loss: 1.1727, Val Acc: 0.5703\n",
      "Epoch 80, Train Acc: 0.6621, Train Loss: 1.1010, Val Loss: 1.0839, Val Acc: 0.6719\n",
      "Epoch 81, Train Acc: 0.6816, Train Loss: 1.0755, Val Loss: 1.0187, Val Acc: 0.7266\n",
      "Epoch 82, Train Acc: 0.6875, Train Loss: 1.0486, Val Loss: 0.9830, Val Acc: 0.7656\n",
      "Epoch 83, Train Acc: 0.7188, Train Loss: 1.0224, Val Loss: 0.9888, Val Acc: 0.7500\n",
      "Epoch 84, Train Acc: 0.7461, Train Loss: 0.9955, Val Loss: 1.2136, Val Acc: 0.5078\n",
      "Epoch 85, Train Acc: 0.7676, Train Loss: 0.9791, Val Loss: 0.9334, Val Acc: 0.8047\n",
      "Epoch 86, Train Acc: 0.7832, Train Loss: 0.9564, Val Loss: 0.9635, Val Acc: 0.8125\n",
      "Epoch 87, Train Acc: 0.7969, Train Loss: 0.9503, Val Loss: 0.9520, Val Acc: 0.7812\n",
      "Epoch 88, Train Acc: 0.8203, Train Loss: 0.9248, Val Loss: 0.9263, Val Acc: 0.8047\n",
      "Epoch 89, Train Acc: 0.8203, Train Loss: 0.9292, Val Loss: 0.9145, Val Acc: 0.8281\n",
      "Epoch 90, Train Acc: 0.8164, Train Loss: 0.9246, Val Loss: 0.8857, Val Acc: 0.8594\n",
      "Epoch 91, Train Acc: 0.8379, Train Loss: 0.9075, Val Loss: 0.9082, Val Acc: 0.8359\n",
      "Epoch 92, Train Acc: 0.7988, Train Loss: 0.9402, Val Loss: 0.8972, Val Acc: 0.8516\n",
      "Epoch 93, Train Acc: 0.8438, Train Loss: 0.8989, Val Loss: 0.8560, Val Acc: 0.8906\n",
      "Epoch 94, Train Acc: 0.8398, Train Loss: 0.9067, Val Loss: 0.8739, Val Acc: 0.8828\n",
      "Epoch 95, Train Acc: 0.8457, Train Loss: 0.8977, Val Loss: 0.8849, Val Acc: 0.8594\n",
      "Epoch 96, Train Acc: 0.8691, Train Loss: 0.8775, Val Loss: 0.8679, Val Acc: 0.8750\n",
      "Epoch 97, Train Acc: 0.8770, Train Loss: 0.8690, Val Loss: 0.8863, Val Acc: 0.8516\n",
      "Epoch 98, Train Acc: 0.8672, Train Loss: 0.8743, Val Loss: 0.8488, Val Acc: 0.8984\n",
      "Epoch 99, Train Acc: 0.8633, Train Loss: 0.8744, Val Loss: 0.8590, Val Acc: 0.8906\n",
      "Epoch 100, Train Acc: 0.8984, Train Loss: 0.8459, Val Loss: 0.8573, Val Acc: 0.8906\n",
      "Done\n"
     ]
    }
   ],
   "source": [
    "# Model Training\n",
    "history1 = train_model_multiclass(model, train_loader_1, val_loader_1, epochs=epochs, lr=lr, file=\"record1.csv\", model_path='trained_model1.pth')\n",
    "print(\"Done\")"
   ]
  },
  {
   "cell_type": "code",
   "execution_count": 29,
   "metadata": {},
   "outputs": [],
   "source": [
    "torch.save(model.state_dict(),\"final_model1.pth\")"
   ]
  },
  {
   "cell_type": "code",
   "execution_count": 30,
   "metadata": {},
   "outputs": [],
   "source": [
    "train_accuracy, training_losses, val_losses, val_accuracy = history1"
   ]
  },
  {
   "cell_type": "code",
   "execution_count": 31,
   "metadata": {},
   "outputs": [
    {
     "data": {
      "text/plain": [
       "(100, 100, 100, 100)"
      ]
     },
     "execution_count": 31,
     "metadata": {},
     "output_type": "execute_result"
    }
   ],
   "source": [
    "len(train_accuracy), len(training_losses), len(val_losses), len(val_accuracy)"
   ]
  },
  {
   "cell_type": "code",
   "execution_count": null,
   "metadata": {},
   "outputs": [],
   "source": [
    "# Plot Generator and Discriminator Loss\n",
    "plt.plot(training_losses, '-')\n",
    "plt.plot(val_losses, '-')\n",
    "plt.xlabel('epoch')\n",
    "plt.ylabel('loss')\n",
    "plt.legend([\"training_losses\", \"val_losses\"])\n",
    "plt.title('Model Losses')"
   ]
  },
  {
   "cell_type": "code",
   "execution_count": null,
   "metadata": {},
   "outputs": [],
   "source": [
    "# Plot Real and Fake score\n",
    "plt.plot(train_accuracy, '-')\n",
    "plt.plot(val_accuracy, '-')\n",
    "plt.xlabel('epoch')\n",
    "plt.ylabel('score')\n",
    "plt.legend(['Train Accuracy', \"Val Accuracy\"])\n",
    "plt.title('Scores')\n",
    "plt.show()"
   ]
  }
 ],
 "metadata": {
  "kernelspec": {
   "display_name": "envTorch",
   "language": "python",
   "name": "python3"
  },
  "language_info": {
   "codemirror_mode": {
    "name": "ipython",
    "version": 3
   },
   "file_extension": ".py",
   "mimetype": "text/x-python",
   "name": "python",
   "nbconvert_exporter": "python",
   "pygments_lexer": "ipython3",
   "version": "3.11.11"
  }
 },
 "nbformat": 4,
 "nbformat_minor": 2
}

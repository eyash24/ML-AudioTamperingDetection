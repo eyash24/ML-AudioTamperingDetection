{
 "cells": [
  {
   "cell_type": "code",
   "execution_count": 3,
   "metadata": {},
   "outputs": [],
   "source": [
    "from pydub import AudioSegment\n",
    "import os"
   ]
  },
  {
   "cell_type": "code",
   "execution_count": null,
   "metadata": {},
   "outputs": [],
   "source": [
    "# Convert MP3 to WAV\n",
    "def convert_mp3_to_wav(mp3_file, wav_file):\n",
    "    try:\n",
    "        audio = AudioSegment.from_mp3(mp3_file)\n",
    "        audio.export(wav_file, format=\"wav\")\n",
    "        return 1\n",
    "    except Exception as e:\n",
    "        return 2"
   ]
  },
  {
   "cell_type": "code",
   "execution_count": 8,
   "metadata": {},
   "outputs": [],
   "source": [
    "AUDIO_DIR = \"/Users/eyash.p24/Desktop/MUJ/ML/ATD_ML/dataset/Tampered_dataset/Insertion\"\n",
    "NEW_AUDIO_DIR = \"/Users/eyash.p24/Desktop/MUJ/ML/ATD_ML/dataset/Tampered_dataset/Insertion_WAV\""
   ]
  },
  {
   "cell_type": "code",
   "execution_count": 9,
   "metadata": {},
   "outputs": [],
   "source": [
    "os.makedirs(NEW_AUDIO_DIR, exist_ok=True)"
   ]
  },
  {
   "cell_type": "code",
   "execution_count": null,
   "metadata": {},
   "outputs": [],
   "source": [
    "error_files = []\n",
    "for aud in os.listdir(AUDIO_DIR):\n",
    "    old_path = aud\n",
    "    new_path = aud[:-3] + \"wav\"\n",
    "    new_path = os.path.join(NEW_AUDIO_DIR, new_path)\n",
    "    old_path = os.path.join(AUDIO_DIR, old_path)\n",
    "\n",
    "    res = convert_mp3_to_wav(old_path, new_path)\n",
    "    if res == 2:\n",
    "        error_files.append(old_path)\n",
    "\n",
    "print(\"Done\")"
   ]
  },
  {
   "cell_type": "code",
   "execution_count": 14,
   "metadata": {},
   "outputs": [
    {
     "data": {
      "text/plain": [
       "[]"
      ]
     },
     "execution_count": 14,
     "metadata": {},
     "output_type": "execute_result"
    }
   ],
   "source": [
    "error_files"
   ]
  },
  {
   "cell_type": "code",
   "execution_count": null,
   "metadata": {},
   "outputs": [],
   "source": []
  }
 ],
 "metadata": {
  "kernelspec": {
   "display_name": "envTorch",
   "language": "python",
   "name": "python3"
  },
  "language_info": {
   "codemirror_mode": {
    "name": "ipython",
    "version": 3
   },
   "file_extension": ".py",
   "mimetype": "text/x-python",
   "name": "python",
   "nbconvert_exporter": "python",
   "pygments_lexer": "ipython3",
   "version": "3.11.11"
  }
 },
 "nbformat": 4,
 "nbformat_minor": 2
}
